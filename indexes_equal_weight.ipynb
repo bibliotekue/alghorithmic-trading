{
 "cells": [
  {
   "cell_type": "markdown",
   "id": "a14d83bc",
   "metadata": {},
   "source": [
    "### Equal-Weight Index Fund\n",
    "\n",
    "#### Introduction & Library Imports\n",
    "\n",
    "The S&P 500 is the world's most popular stock market index. The largest fund that is benchmarked to this index is the SPDR® S&P 500® ETF Trust. It has more than US$250 billion of assets under management.\n",
    "\n",
    "The goal of this section of the course is to create a Python script that will accept the value of your portfolio and tell you how many shares of each S&P 500 constituent you should purchase to get an equal-weight version of the index fund.\n",
    "\n",
    "#### Library Imports\n",
    "\n",
    "The first thing we need to do is import the open-source software libraries that we'll be using in this tutorial."
   ]
  },
  {
   "cell_type": "code",
   "execution_count": 1,
   "id": "f4557dd6",
   "metadata": {},
   "outputs": [],
   "source": [
    "import numpy as np\n",
    "import pandas as pd\n",
    "import requests\n",
    "import xlsxwriter\n",
    "import math"
   ]
  },
  {
   "cell_type": "markdown",
   "id": "914ba701",
   "metadata": {},
   "source": [
    "#### Importing Our List of Stocks\n",
    "\n",
    "The next thing we need to do is import the constituents of the S&P 500.\n",
    "\n",
    "These constituents change over time, so in an ideal world you would connect directly to the index provider (Standard & Poor's) and pull their real-time constituents on a regular basis.\n",
    "\n",
    "Now it's time to import these stocks to our Jupyter Notebook file."
   ]
  },
  {
   "cell_type": "markdown",
   "id": "1ea56741",
   "metadata": {},
   "source": [
    "We need the following information after **Parsing**:\n",
    "\n",
    "* Weight in index of each stock\n",
    "* Price of each stock"
   ]
  },
  {
   "cell_type": "code",
   "execution_count": 127,
   "id": "7d11987b",
   "metadata": {},
   "outputs": [],
   "source": [
    "INDEXES = {'SP500': 'sp500', \n",
    "           'NASDAQ': 'nasdaq100', \n",
    "           'DOWJONES': 'dowjones'}"
   ]
  },
  {
   "cell_type": "code",
   "execution_count": 159,
   "id": "bf453f94",
   "metadata": {},
   "outputs": [],
   "source": [
    "from bs4 import BeautifulSoup\n",
    "from decimal import Decimal\n",
    "\n",
    "def index_parse(index):\n",
    "    \n",
    "    url = f'https://www.slickcharts.com/{index}'\n",
    "\n",
    "    request = requests.get(url, headers={'User-Agent': 'Mozilla/5.0'})\n",
    "    soup = BeautifulSoup(request.text, \"lxml\")\n",
    "    \n",
    "    stats = soup.find('table',class_='table table-hover table-borderless table-sm')\n",
    "\n",
    "    df = pd.read_html(str(stats))[0]\n",
    "    df['% Chg'] = df['% Chg'].str.strip('()-%')\n",
    "    df['% Chg'] = pd.to_numeric(df['% Chg'])\n",
    "    df['Chg'] = pd.to_numeric(df['Chg'])\n",
    "\n",
    "    return df"
   ]
  },
  {
   "cell_type": "code",
   "execution_count": 160,
   "id": "cf4fcd1b",
   "metadata": {},
   "outputs": [
    {
     "data": {
      "text/html": [
       "<div>\n",
       "<style scoped>\n",
       "    .dataframe tbody tr th:only-of-type {\n",
       "        vertical-align: middle;\n",
       "    }\n",
       "\n",
       "    .dataframe tbody tr th {\n",
       "        vertical-align: top;\n",
       "    }\n",
       "\n",
       "    .dataframe thead th {\n",
       "        text-align: right;\n",
       "    }\n",
       "</style>\n",
       "<table border=\"1\" class=\"dataframe\">\n",
       "  <thead>\n",
       "    <tr style=\"text-align: right;\">\n",
       "      <th></th>\n",
       "      <th>#</th>\n",
       "      <th>Company</th>\n",
       "      <th>Symbol</th>\n",
       "      <th>Weight</th>\n",
       "      <th>Price</th>\n",
       "      <th>Chg</th>\n",
       "      <th>% Chg</th>\n",
       "    </tr>\n",
       "  </thead>\n",
       "  <tbody>\n",
       "    <tr>\n",
       "      <th>0</th>\n",
       "      <td>1</td>\n",
       "      <td>Apple Inc.</td>\n",
       "      <td>AAPL</td>\n",
       "      <td>6.775739</td>\n",
       "      <td>173.98</td>\n",
       "      <td>1.79</td>\n",
       "      <td>1.04</td>\n",
       "    </tr>\n",
       "    <tr>\n",
       "      <th>1</th>\n",
       "      <td>2</td>\n",
       "      <td>Microsoft Corporation</td>\n",
       "      <td>MSFT</td>\n",
       "      <td>5.953641</td>\n",
       "      <td>316.75</td>\n",
       "      <td>2.48</td>\n",
       "      <td>0.79</td>\n",
       "    </tr>\n",
       "    <tr>\n",
       "      <th>2</th>\n",
       "      <td>3</td>\n",
       "      <td>Amazon.com Inc.</td>\n",
       "      <td>AMZN</td>\n",
       "      <td>3.580584</td>\n",
       "      <td>3250.00</td>\n",
       "      <td>20.28</td>\n",
       "      <td>0.63</td>\n",
       "    </tr>\n",
       "    <tr>\n",
       "      <th>3</th>\n",
       "      <td>4</td>\n",
       "      <td>Tesla Inc</td>\n",
       "      <td>TSLA</td>\n",
       "      <td>2.109392</td>\n",
       "      <td>1072.39</td>\n",
       "      <td>14.27</td>\n",
       "      <td>1.35</td>\n",
       "    </tr>\n",
       "    <tr>\n",
       "      <th>4</th>\n",
       "      <td>5</td>\n",
       "      <td>Alphabet Inc. Class A</td>\n",
       "      <td>GOOGL</td>\n",
       "      <td>2.081470</td>\n",
       "      <td>2793.90</td>\n",
       "      <td>20.51</td>\n",
       "      <td>0.74</td>\n",
       "    </tr>\n",
       "  </tbody>\n",
       "</table>\n",
       "</div>"
      ],
      "text/plain": [
       "   #                Company Symbol    Weight    Price    Chg  % Chg\n",
       "0  1             Apple Inc.   AAPL  6.775739   173.98   1.79   1.04\n",
       "1  2  Microsoft Corporation   MSFT  5.953641   316.75   2.48   0.79\n",
       "2  3        Amazon.com Inc.   AMZN  3.580584  3250.00  20.28   0.63\n",
       "3  4              Tesla Inc   TSLA  2.109392  1072.39  14.27   1.35\n",
       "4  5  Alphabet Inc. Class A  GOOGL  2.081470  2793.90  20.51   0.74"
      ]
     },
     "execution_count": 160,
     "metadata": {},
     "output_type": "execute_result"
    }
   ],
   "source": [
    "parse_data = index_parse(INDEXES['SP500'])\n",
    "parse_data.head()"
   ]
  },
  {
   "cell_type": "markdown",
   "id": "4eab86d1",
   "metadata": {},
   "source": [
    "#### Define our deposit value and read Excel Portfolio file"
   ]
  },
  {
   "cell_type": "code",
   "execution_count": 161,
   "id": "1f241ca1",
   "metadata": {},
   "outputs": [],
   "source": [
    "depo = 0"
   ]
  },
  {
   "cell_type": "code",
   "execution_count": 162,
   "id": "911f0d0e",
   "metadata": {
    "scrolled": true
   },
   "outputs": [
    {
     "name": "stdout",
     "output_type": "stream",
     "text": [
      "Enter the value of your portfolio in USD 1000\n"
     ]
    }
   ],
   "source": [
    "while True:\n",
    "    try:\n",
    "        depo += float(input('Enter the value of your portfolio in USD '))\n",
    "        break\n",
    "    except Exception:\n",
    "        print('Thats not a number! \\n Try again:')"
   ]
  },
  {
   "cell_type": "code",
   "execution_count": 272,
   "id": "b26651ee",
   "metadata": {},
   "outputs": [],
   "source": [
    "# read the file with all assets in portfolio\n",
    "portfolio = pd.read_excel('portfolio.xlsx')\n",
    "\n",
    "# del portfolio['Unnamed: 0']"
   ]
  },
  {
   "cell_type": "code",
   "execution_count": 273,
   "id": "c803ffee",
   "metadata": {},
   "outputs": [
    {
     "data": {
      "text/html": [
       "<div>\n",
       "<style scoped>\n",
       "    .dataframe tbody tr th:only-of-type {\n",
       "        vertical-align: middle;\n",
       "    }\n",
       "\n",
       "    .dataframe tbody tr th {\n",
       "        vertical-align: top;\n",
       "    }\n",
       "\n",
       "    .dataframe thead th {\n",
       "        text-align: right;\n",
       "    }\n",
       "</style>\n",
       "<table border=\"1\" class=\"dataframe\">\n",
       "  <thead>\n",
       "    <tr style=\"text-align: right;\">\n",
       "      <th></th>\n",
       "      <th>asset</th>\n",
       "      <th>amount</th>\n",
       "      <th>price</th>\n",
       "      <th>total_sum</th>\n",
       "    </tr>\n",
       "  </thead>\n",
       "  <tbody>\n",
       "  </tbody>\n",
       "</table>\n",
       "</div>"
      ],
      "text/plain": [
       "Empty DataFrame\n",
       "Columns: [asset, amount, price, total_sum]\n",
       "Index: []"
      ]
     },
     "execution_count": 273,
     "metadata": {},
     "output_type": "execute_result"
    }
   ],
   "source": [
    "portfolio.head()"
   ]
  },
  {
   "cell_type": "markdown",
   "id": "0ab55764",
   "metadata": {},
   "source": [
    "#### Calculating the Number of Shares to Buy\n",
    "\n",
    "As you can see in the DataFrame above, we stil haven't calculated the number of shares of each stock to buy.\n",
    "\n",
    "We'll do that next."
   ]
  },
  {
   "cell_type": "code",
   "execution_count": 313,
   "id": "92077544",
   "metadata": {},
   "outputs": [],
   "source": [
    "class CalculateSupply:\n",
    "    \n",
    "    def __init__(self, user_portfolio, parse_data, depo):\n",
    "        self.portfolio = user_portfolio\n",
    "        self.parse_data = parse_data\n",
    "        self.depo = depo\n",
    "        \n",
    "        self.total_deposit = sum(self.portfolio['total_sum'])\n",
    "        self.total_assets_sum = self.portfolio.groupby('asset').agg({'total_sum': 'sum'})\n",
    "        \n",
    "    # parse elements from source\n",
    "    def _parse_data(self, elem):\n",
    "        symbol = elem[1][2]\n",
    "        index_weight = round(Decimal(elem[1][3] / 100), 5)\n",
    "        current_price = elem[1][4]\n",
    "        \n",
    "        return symbol, index_weight, current_price\n",
    "    \n",
    "    # checking current allocation\n",
    "    def _check_allocation(self, symbol):\n",
    "        try:\n",
    "            total_asset_sum = self.total_assets_sum.query(f\"asset == '{symbol}'\")['total_sum'][0]\n",
    "\n",
    "        except Exception:\n",
    "            total_asset_sum = 0\n",
    "\n",
    "        asset_portfolio_weight = total_asset_sum / (self.total_deposit + self.depo)\n",
    "        \n",
    "        return total_asset_sum, asset_portfolio_weight\n",
    "    \n",
    "    # calculating recommendation\n",
    "    def _calculating_result(self, index_weight, total_asset_sum, current_price): \n",
    "        required_size = (self.total_deposit + self.depo) * float(index_weight)\n",
    "        required_sum = float(required_size) - total_asset_sum\n",
    "        \n",
    "        if required_sum:\n",
    "            available_amount = required_sum / current_price\n",
    "            \n",
    "        return available_amount, required_sum\n",
    "    \n",
    "    def run(self):\n",
    "        for elem in self.parse_data.iterrows():\n",
    "            # define necessary variables\n",
    "            symbol, index_weight, current_price = self._parse_data(elem)\n",
    "            total_asset_sum, asset_portfolio_weight = self._check_allocation(symbol)\n",
    "            available_amount, required_sum = self._calculating_result(index_weight, total_asset_sum, current_price)\n",
    "\n",
    "            # saving recommendation\n",
    "            self.portfolio = self.portfolio.append(pd.DataFrame([[symbol, available_amount, \n",
    "                                                        current_price, \n",
    "                                                        available_amount * current_price]], \n",
    "                                                      columns=self.portfolio.columns))\n",
    "\n",
    "\n",
    "            self.depo -= float(required_sum)\n",
    "\n",
    "        return self.portfolio\n",
    "        \n",
    "calculator = CalculateSupply(portfolio, parse_data, depo)"
   ]
  },
  {
   "cell_type": "code",
   "execution_count": 316,
   "id": "e9a6b10c",
   "metadata": {},
   "outputs": [
    {
     "data": {
      "text/html": [
       "<div>\n",
       "<style scoped>\n",
       "    .dataframe tbody tr th:only-of-type {\n",
       "        vertical-align: middle;\n",
       "    }\n",
       "\n",
       "    .dataframe tbody tr th {\n",
       "        vertical-align: top;\n",
       "    }\n",
       "\n",
       "    .dataframe thead th {\n",
       "        text-align: right;\n",
       "    }\n",
       "</style>\n",
       "<table border=\"1\" class=\"dataframe\">\n",
       "  <thead>\n",
       "    <tr style=\"text-align: right;\">\n",
       "      <th></th>\n",
       "      <th>asset</th>\n",
       "      <th>amount</th>\n",
       "      <th>price</th>\n",
       "      <th>total_sum</th>\n",
       "    </tr>\n",
       "  </thead>\n",
       "  <tbody>\n",
       "    <tr>\n",
       "      <th>0</th>\n",
       "      <td>AAPL</td>\n",
       "      <td>0.389470</td>\n",
       "      <td>173.98</td>\n",
       "      <td>67.760000</td>\n",
       "    </tr>\n",
       "    <tr>\n",
       "      <th>0</th>\n",
       "      <td>MSFT</td>\n",
       "      <td>0.175235</td>\n",
       "      <td>316.75</td>\n",
       "      <td>55.505570</td>\n",
       "    </tr>\n",
       "    <tr>\n",
       "      <th>0</th>\n",
       "      <td>AMZN</td>\n",
       "      <td>0.009660</td>\n",
       "      <td>3250.00</td>\n",
       "      <td>31.395860</td>\n",
       "    </tr>\n",
       "    <tr>\n",
       "      <th>0</th>\n",
       "      <td>TSLA</td>\n",
       "      <td>0.016625</td>\n",
       "      <td>1072.39</td>\n",
       "      <td>17.828190</td>\n",
       "    </tr>\n",
       "    <tr>\n",
       "      <th>0</th>\n",
       "      <td>GOOGL</td>\n",
       "      <td>0.006164</td>\n",
       "      <td>2793.90</td>\n",
       "      <td>17.220491</td>\n",
       "    </tr>\n",
       "  </tbody>\n",
       "</table>\n",
       "</div>"
      ],
      "text/plain": [
       "   asset    amount    price  total_sum\n",
       "0   AAPL  0.389470   173.98  67.760000\n",
       "0   MSFT  0.175235   316.75  55.505570\n",
       "0   AMZN  0.009660  3250.00  31.395860\n",
       "0   TSLA  0.016625  1072.39  17.828190\n",
       "0  GOOGL  0.006164  2793.90  17.220491"
      ]
     },
     "execution_count": 316,
     "metadata": {},
     "output_type": "execute_result"
    }
   ],
   "source": [
    "portfolio = calculator.run()\n",
    "portfolio.head()"
   ]
  },
  {
   "cell_type": "markdown",
   "id": "727401c7",
   "metadata": {},
   "source": [
    "#### Formatting Our Excel Output\n",
    "\n",
    "We will be using the XlsxWriter library for Python to create nicely-formatted Excel files.\n",
    "\n",
    "XlsxWriter is an excellent package and offers tons of customization. However, the tradeoff for this is that the library can seem very complicated to new users. Accordingly, this section will be fairly long because I want to do a good job of explaining how XlsxWriter works.\n",
    "\n",
    "#### Initializing our XlsxWriter Object"
   ]
  },
  {
   "cell_type": "code",
   "execution_count": null,
   "id": "392cf3a6",
   "metadata": {},
   "outputs": [],
   "source": [
    "writer = pd.ExcelWriter('recommended_allocations.xlsx', engine='xlsxwriter')\n",
    "portfolio.to_excel(writer, sheet_name='Recmmended Trades', index=False)"
   ]
  },
  {
   "cell_type": "markdown",
   "id": "e58916ab",
   "metadata": {},
   "source": [
    "#### Creating the Formats We'll Need For Our `.xlsx` File\n",
    "\n",
    "Formats include colors, fonts, and also symbols like `%` and `$`. We'll need four main formats for our Excel document:\n",
    "* String format for tickers\n",
    "* Integer format for the number of shares to purchase\n",
    "* \\\\$XX.XX format for stock prices\n",
    "* \\\\$XX.XX format for the total sum of investments"
   ]
  },
  {
   "cell_type": "code",
   "execution_count": null,
   "id": "b9b3755a",
   "metadata": {},
   "outputs": [],
   "source": []
  }
 ],
 "metadata": {
  "kernelspec": {
   "display_name": "Python 3 (ipykernel)",
   "language": "python",
   "name": "python3"
  },
  "language_info": {
   "codemirror_mode": {
    "name": "ipython",
    "version": 3
   },
   "file_extension": ".py",
   "mimetype": "text/x-python",
   "name": "python",
   "nbconvert_exporter": "python",
   "pygments_lexer": "ipython3",
   "version": "3.9.7"
  }
 },
 "nbformat": 4,
 "nbformat_minor": 5
}
