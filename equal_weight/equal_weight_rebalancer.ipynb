{
 "cells": [
  {
   "cell_type": "markdown",
   "id": "a14d83bc",
   "metadata": {},
   "source": [
    "### Equal-Weight Index Fund\n",
    "\n",
    "#### Introduction & Library Imports\n",
    "\n",
    "The S&P 500 is the world's most popular stock market index. The largest fund that is benchmarked to this index is the SPDR® S&P 500® ETF Trust. It has more than US$250 billion of assets under management.\n",
    "\n",
    "The goal of this section of the course is to create a Python script that will accept the value of your portfolio and tell you how many shares of each S&P 500 constituent you should purchase to get an equal-weight version of the index fund.\n",
    "\n",
    "#### Library Imports\n",
    "\n",
    "The first thing we need to do is import the open-source software libraries that we'll be using in this tutorial."
   ]
  },
  {
   "cell_type": "code",
   "execution_count": 1,
   "id": "f4557dd6",
   "metadata": {},
   "outputs": [],
   "source": [
    "import numpy as np\n",
    "import pandas as pd\n",
    "import requests\n",
    "import xlsxwriter\n",
    "import math"
   ]
  },
  {
   "cell_type": "markdown",
   "id": "914ba701",
   "metadata": {},
   "source": [
    "#### Importing Our List of Stocks\n",
    "\n",
    "The next thing we need to do is import the constituents of the S&P 500.\n",
    "\n",
    "These constituents change over time, so in an ideal world you would connect directly to the index provider (Standard & Poor's) and pull their real-time constituents on a regular basis.\n",
    "\n",
    "Now it's time to import these stocks to our Jupyter Notebook file."
   ]
  },
  {
   "cell_type": "markdown",
   "id": "1ea56741",
   "metadata": {},
   "source": [
    "We need the following information after **Parsing**:\n",
    "\n",
    "* Weight in index of each stock\n",
    "* Price of each stock"
   ]
  },
  {
   "cell_type": "code",
   "execution_count": 2,
   "id": "7d11987b",
   "metadata": {},
   "outputs": [],
   "source": [
    "INDEXES = {'SP500': 'sp500', \n",
    "           'NASDAQ': 'nasdaq100', \n",
    "           'DOWJONES': 'dowjones'}"
   ]
  },
  {
   "cell_type": "code",
   "execution_count": 3,
   "id": "bf453f94",
   "metadata": {},
   "outputs": [],
   "source": [
    "from bs4 import BeautifulSoup\n",
    "from decimal import Decimal\n",
    "\n",
    "def index_parse(index):\n",
    "    \n",
    "    url = f'https://www.slickcharts.com/{index}'\n",
    "\n",
    "    request = requests.get(url, headers={'User-Agent': 'Mozilla/5.0'})\n",
    "    soup = BeautifulSoup(request.text, \"lxml\")\n",
    "    \n",
    "    stats = soup.find('table',class_='table table-hover table-borderless table-sm')\n",
    "\n",
    "    df = pd.read_html(str(stats))[0]\n",
    "    df['% Chg'] = df['% Chg'].str.strip('()-%')\n",
    "    df['% Chg'] = pd.to_numeric(df['% Chg'])\n",
    "    df['Chg'] = pd.to_numeric(df['Chg'])\n",
    "\n",
    "    return df"
   ]
  },
  {
   "cell_type": "code",
   "execution_count": 4,
   "id": "cf4fcd1b",
   "metadata": {},
   "outputs": [
    {
     "data": {
      "text/html": [
       "<div>\n",
       "<style scoped>\n",
       "    .dataframe tbody tr th:only-of-type {\n",
       "        vertical-align: middle;\n",
       "    }\n",
       "\n",
       "    .dataframe tbody tr th {\n",
       "        vertical-align: top;\n",
       "    }\n",
       "\n",
       "    .dataframe thead th {\n",
       "        text-align: right;\n",
       "    }\n",
       "</style>\n",
       "<table border=\"1\" class=\"dataframe\">\n",
       "  <thead>\n",
       "    <tr style=\"text-align: right;\">\n",
       "      <th></th>\n",
       "      <th>#</th>\n",
       "      <th>Company</th>\n",
       "      <th>Symbol</th>\n",
       "      <th>Weight</th>\n",
       "      <th>Price</th>\n",
       "      <th>Chg</th>\n",
       "      <th>% Chg</th>\n",
       "    </tr>\n",
       "  </thead>\n",
       "  <tbody>\n",
       "    <tr>\n",
       "      <th>0</th>\n",
       "      <td>1</td>\n",
       "      <td>Apple Inc.</td>\n",
       "      <td>AAPL</td>\n",
       "      <td>6.786297</td>\n",
       "      <td>175.25</td>\n",
       "      <td>3.06</td>\n",
       "      <td>1.78</td>\n",
       "    </tr>\n",
       "    <tr>\n",
       "      <th>1</th>\n",
       "      <td>2</td>\n",
       "      <td>Microsoft Corporation</td>\n",
       "      <td>MSFT</td>\n",
       "      <td>5.966591</td>\n",
       "      <td>315.30</td>\n",
       "      <td>1.03</td>\n",
       "      <td>0.33</td>\n",
       "    </tr>\n",
       "    <tr>\n",
       "      <th>2</th>\n",
       "      <td>3</td>\n",
       "      <td>Amazon.com Inc.</td>\n",
       "      <td>AMZN</td>\n",
       "      <td>3.562196</td>\n",
       "      <td>3305.00</td>\n",
       "      <td>75.28</td>\n",
       "      <td>2.33</td>\n",
       "    </tr>\n",
       "    <tr>\n",
       "      <th>3</th>\n",
       "      <td>4</td>\n",
       "      <td>Tesla Inc</td>\n",
       "      <td>TSLA</td>\n",
       "      <td>2.176526</td>\n",
       "      <td>1059.30</td>\n",
       "      <td>1.18</td>\n",
       "      <td>0.11</td>\n",
       "    </tr>\n",
       "    <tr>\n",
       "      <th>4</th>\n",
       "      <td>5</td>\n",
       "      <td>Alphabet Inc. Class A</td>\n",
       "      <td>GOOGL</td>\n",
       "      <td>2.109612</td>\n",
       "      <td>2795.73</td>\n",
       "      <td>22.34</td>\n",
       "      <td>0.81</td>\n",
       "    </tr>\n",
       "  </tbody>\n",
       "</table>\n",
       "</div>"
      ],
      "text/plain": [
       "   #                Company Symbol    Weight    Price    Chg  % Chg\n",
       "0  1             Apple Inc.   AAPL  6.786297   175.25   3.06   1.78\n",
       "1  2  Microsoft Corporation   MSFT  5.966591   315.30   1.03   0.33\n",
       "2  3        Amazon.com Inc.   AMZN  3.562196  3305.00  75.28   2.33\n",
       "3  4              Tesla Inc   TSLA  2.176526  1059.30   1.18   0.11\n",
       "4  5  Alphabet Inc. Class A  GOOGL  2.109612  2795.73  22.34   0.81"
      ]
     },
     "execution_count": 4,
     "metadata": {},
     "output_type": "execute_result"
    }
   ],
   "source": [
    "parse_data = index_parse(INDEXES['SP500'])\n",
    "parse_data.head()"
   ]
  },
  {
   "cell_type": "markdown",
   "id": "4eab86d1",
   "metadata": {},
   "source": [
    "#### Define our deposit value and read Excel Portfolio file"
   ]
  },
  {
   "cell_type": "code",
   "execution_count": 30,
   "id": "1f241ca1",
   "metadata": {},
   "outputs": [],
   "source": [
    "depo = 1000"
   ]
  },
  {
   "cell_type": "code",
   "execution_count": 6,
   "id": "911f0d0e",
   "metadata": {
    "scrolled": true
   },
   "outputs": [
    {
     "name": "stdout",
     "output_type": "stream",
     "text": [
      "Enter the value of your portfolio in USD 1000\n"
     ]
    }
   ],
   "source": [
    "while True:\n",
    "    try:\n",
    "        depo += float(input('Enter the value of your portfolio in USD '))\n",
    "        break\n",
    "    except Exception:\n",
    "        print('Thats not a number! \\n Try again:')"
   ]
  },
  {
   "cell_type": "code",
   "execution_count": 28,
   "id": "b26651ee",
   "metadata": {},
   "outputs": [],
   "source": [
    "# read the file with all assets in portfolio\n",
    "portfolio = pd.read_excel('portfolio.xlsx')\n",
    "\n",
    "del portfolio['Unnamed: 0']"
   ]
  },
  {
   "cell_type": "code",
   "execution_count": 29,
   "id": "c803ffee",
   "metadata": {},
   "outputs": [
    {
     "data": {
      "text/html": [
       "<div>\n",
       "<style scoped>\n",
       "    .dataframe tbody tr th:only-of-type {\n",
       "        vertical-align: middle;\n",
       "    }\n",
       "\n",
       "    .dataframe tbody tr th {\n",
       "        vertical-align: top;\n",
       "    }\n",
       "\n",
       "    .dataframe thead th {\n",
       "        text-align: right;\n",
       "    }\n",
       "</style>\n",
       "<table border=\"1\" class=\"dataframe\">\n",
       "  <thead>\n",
       "    <tr style=\"text-align: right;\">\n",
       "      <th></th>\n",
       "      <th>asset</th>\n",
       "      <th>amount</th>\n",
       "      <th>price</th>\n",
       "      <th>total_sum</th>\n",
       "    </tr>\n",
       "  </thead>\n",
       "  <tbody>\n",
       "    <tr>\n",
       "      <th>0</th>\n",
       "      <td>AAPL</td>\n",
       "      <td>0.387218</td>\n",
       "      <td>175.25</td>\n",
       "      <td>67.860000</td>\n",
       "    </tr>\n",
       "    <tr>\n",
       "      <th>1</th>\n",
       "      <td>MSFT</td>\n",
       "      <td>0.176406</td>\n",
       "      <td>315.30</td>\n",
       "      <td>55.620794</td>\n",
       "    </tr>\n",
       "    <tr>\n",
       "      <th>2</th>\n",
       "      <td>AMZN</td>\n",
       "      <td>0.009447</td>\n",
       "      <td>3305.00</td>\n",
       "      <td>31.221614</td>\n",
       "    </tr>\n",
       "    <tr>\n",
       "      <th>3</th>\n",
       "      <td>TSLA</td>\n",
       "      <td>0.017372</td>\n",
       "      <td>1059.30</td>\n",
       "      <td>18.402129</td>\n",
       "    </tr>\n",
       "    <tr>\n",
       "      <th>4</th>\n",
       "      <td>GOOGL</td>\n",
       "      <td>0.006241</td>\n",
       "      <td>2795.73</td>\n",
       "      <td>17.447494</td>\n",
       "    </tr>\n",
       "  </tbody>\n",
       "</table>\n",
       "</div>"
      ],
      "text/plain": [
       "   asset    amount    price  total_sum\n",
       "0   AAPL  0.387218   175.25  67.860000\n",
       "1   MSFT  0.176406   315.30  55.620794\n",
       "2   AMZN  0.009447  3305.00  31.221614\n",
       "3   TSLA  0.017372  1059.30  18.402129\n",
       "4  GOOGL  0.006241  2795.73  17.447494"
      ]
     },
     "execution_count": 29,
     "metadata": {},
     "output_type": "execute_result"
    }
   ],
   "source": [
    "portfolio.head()"
   ]
  },
  {
   "cell_type": "markdown",
   "id": "0ab55764",
   "metadata": {},
   "source": [
    "#### Calculating the Number of Shares to Buy\n",
    "\n",
    "As you can see in the DataFrame above, we stil haven't calculated the number of shares of each stock to buy.\n",
    "\n",
    "We'll do that next."
   ]
  },
  {
   "cell_type": "code",
   "execution_count": 9,
   "id": "92077544",
   "metadata": {},
   "outputs": [],
   "source": [
    "class CalculateSupply:\n",
    "    \n",
    "    def __init__(self, user_portfolio, parse_data, depo):\n",
    "        self.portfolio = user_portfolio\n",
    "        self.parse_data = parse_data\n",
    "        self.depo = depo\n",
    "        \n",
    "        self.total_deposit = sum(self.portfolio['total_sum'])\n",
    "        self.total_assets_sum = self.portfolio.groupby('asset').agg({'total_sum': 'sum'})\n",
    "        \n",
    "    # parse elements from source\n",
    "    def _parse_elem(self, elem):\n",
    "        symbol = elem[1][2]\n",
    "        index_weight = round(Decimal(elem[1][3] / 100), 5)\n",
    "        current_price = elem[1][4]\n",
    "        \n",
    "        return symbol, index_weight, current_price\n",
    "    \n",
    "    # checking current allocation\n",
    "    def _check_allocation(self, symbol):\n",
    "        try:\n",
    "            total_asset_sum = self.total_assets_sum.query(f\"asset == '{symbol}'\")['total_sum'][0]\n",
    "\n",
    "        except Exception:\n",
    "            total_asset_sum = 0\n",
    "\n",
    "        asset_portfolio_weight = total_asset_sum / (self.total_deposit + self.depo)\n",
    "        \n",
    "        return total_asset_sum, asset_portfolio_weight\n",
    "    \n",
    "    # calculating recommendation\n",
    "    def _calculating_result(self, index_weight, total_asset_sum, current_price): \n",
    "        required_size = (self.total_deposit + self.depo) * float(index_weight)\n",
    "        required_sum = float(required_size) - total_asset_sum\n",
    "        \n",
    "        if required_sum:\n",
    "            available_amount = required_sum / current_price\n",
    "            \n",
    "        return available_amount, required_sum\n",
    "    \n",
    "    def run(self):\n",
    "        for elem in self.parse_data.iterrows():\n",
    "            # define necessary variables\n",
    "            symbol, index_weight, current_price = self._parse_data(elem)\n",
    "            total_asset_sum, asset_portfolio_weight = self._check_allocation(symbol)\n",
    "            available_amount, required_sum = self._calculating_result(index_weight, total_asset_sum, current_price)\n",
    "\n",
    "            # adding recommendation\n",
    "            self.portfolio = self.portfolio.append(pd.DataFrame([[symbol, available_amount, \n",
    "                                                        current_price, \n",
    "                                                        available_amount * current_price]], \n",
    "                                                      columns=self.portfolio.columns))\n",
    "\n",
    "\n",
    "            self.depo -= float(required_sum)\n",
    "\n",
    "        return self.portfolio\n",
    "        \n",
    "calculator = CalculateSupply(portfolio, parse_data, depo)"
   ]
  },
  {
   "cell_type": "code",
   "execution_count": 31,
   "id": "e9a6b10c",
   "metadata": {
    "scrolled": true
   },
   "outputs": [
    {
     "data": {
      "text/html": [
       "<div>\n",
       "<style scoped>\n",
       "    .dataframe tbody tr th:only-of-type {\n",
       "        vertical-align: middle;\n",
       "    }\n",
       "\n",
       "    .dataframe tbody tr th {\n",
       "        vertical-align: top;\n",
       "    }\n",
       "\n",
       "    .dataframe thead th {\n",
       "        text-align: right;\n",
       "    }\n",
       "</style>\n",
       "<table border=\"1\" class=\"dataframe\">\n",
       "  <thead>\n",
       "    <tr style=\"text-align: right;\">\n",
       "      <th></th>\n",
       "      <th>asset</th>\n",
       "      <th>amount</th>\n",
       "      <th>price</th>\n",
       "      <th>total_sum</th>\n",
       "    </tr>\n",
       "  </thead>\n",
       "  <tbody>\n",
       "    <tr>\n",
       "      <th>0</th>\n",
       "      <td>AAPL</td>\n",
       "      <td>0.387218</td>\n",
       "      <td>175.25</td>\n",
       "      <td>67.860000</td>\n",
       "    </tr>\n",
       "    <tr>\n",
       "      <th>0</th>\n",
       "      <td>MSFT</td>\n",
       "      <td>0.176406</td>\n",
       "      <td>315.30</td>\n",
       "      <td>55.620794</td>\n",
       "    </tr>\n",
       "    <tr>\n",
       "      <th>0</th>\n",
       "      <td>AMZN</td>\n",
       "      <td>0.009447</td>\n",
       "      <td>3305.00</td>\n",
       "      <td>31.221614</td>\n",
       "    </tr>\n",
       "    <tr>\n",
       "      <th>0</th>\n",
       "      <td>TSLA</td>\n",
       "      <td>0.017372</td>\n",
       "      <td>1059.30</td>\n",
       "      <td>18.402129</td>\n",
       "    </tr>\n",
       "    <tr>\n",
       "      <th>0</th>\n",
       "      <td>GOOGL</td>\n",
       "      <td>0.006241</td>\n",
       "      <td>2795.73</td>\n",
       "      <td>17.447494</td>\n",
       "    </tr>\n",
       "  </tbody>\n",
       "</table>\n",
       "</div>"
      ],
      "text/plain": [
       "   asset    amount    price  total_sum\n",
       "0   AAPL  0.387218   175.25  67.860000\n",
       "0   MSFT  0.176406   315.30  55.620794\n",
       "0   AMZN  0.009447  3305.00  31.221614\n",
       "0   TSLA  0.017372  1059.30  18.402129\n",
       "0  GOOGL  0.006241  2795.73  17.447494"
      ]
     },
     "execution_count": 31,
     "metadata": {},
     "output_type": "execute_result"
    }
   ],
   "source": [
    "# run our script\n",
    "portfolio = calculator.run()\n",
    "portfolio.head()"
   ]
  },
  {
   "cell_type": "markdown",
   "id": "c16c917c",
   "metadata": {},
   "source": [
    "#### Saving Our DataFrame to Excel\n",
    "\n",
    "Saving our Excel file is very easy:"
   ]
  },
  {
   "cell_type": "code",
   "execution_count": 33,
   "id": "55cb6d96",
   "metadata": {},
   "outputs": [],
   "source": [
    "portfolio.to_excel('portfolio.xlsx')"
   ]
  }
 ],
 "metadata": {
  "kernelspec": {
   "display_name": "Python 3 (ipykernel)",
   "language": "python",
   "name": "python3"
  },
  "language_info": {
   "codemirror_mode": {
    "name": "ipython",
    "version": 3
   },
   "file_extension": ".py",
   "mimetype": "text/x-python",
   "name": "python",
   "nbconvert_exporter": "python",
   "pygments_lexer": "ipython3",
   "version": "3.9.7"
  }
 },
 "nbformat": 4,
 "nbformat_minor": 5
}
